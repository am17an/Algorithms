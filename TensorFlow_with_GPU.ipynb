{
  "nbformat": 4,
  "nbformat_minor": 0,
  "metadata": {
    "colab": {
      "name": "TensorFlow with GPU",
      "version": "0.3.2",
      "provenance": [],
      "collapsed_sections": [],
      "toc_visible": true,
      "include_colab_link": true
    },
    "kernelspec": {
      "display_name": "Python 2",
      "name": "python2"
    },
    "accelerator": "GPU"
  },
  "cells": [
    {
      "cell_type": "markdown",
      "metadata": {
        "id": "view-in-github",
        "colab_type": "text"
      },
      "source": [
        "[View in Colaboratory](https://colab.research.google.com/github/am17an/Algorithms/blob/master/TensorFlow_with_GPU.ipynb)"
      ]
    },
    {
      "metadata": {
        "id": "oSN8QtRiPCJd",
        "colab_type": "code",
        "colab": {}
      },
      "cell_type": "code",
      "source": [
        "!pip install -q keras"
      ],
      "execution_count": 0,
      "outputs": []
    },
    {
      "metadata": {
        "id": "r8zf9ul9O5YY",
        "colab_type": "code",
        "colab": {}
      },
      "cell_type": "code",
      "source": [
        "import keras\n",
        "import numpy as np\n",
        "from keras.models import Sequential\n",
        "from sklearn.preprocessing import StandardScaler\n",
        "from keras.layers import Dense\n",
        "\n",
        "seed = 7\n",
        "\n",
        "np.random.seed(seed)"
      ],
      "execution_count": 0,
      "outputs": []
    },
    {
      "metadata": {
        "id": "Cr0BrwhKQSQz",
        "colab_type": "code",
        "colab": {}
      },
      "cell_type": "code",
      "source": [
        "\n",
        "\n",
        "data = np.genfromtxt(\"sample_data/california_housing_train.csv\", delimiter=\",\", skip_header=True)\n",
        "testdata = np.genfromtxt(\"sample_data/california_housing_test.csv\", delimiter=\",\", skip_header=True)\n",
        "\n",
        "n_features = 8\n",
        "X_train = data[:, :8]\n",
        "y_train = data[:, 8]\n",
        "\n",
        "X_test  = testdata[:, :8]\n",
        "y_test  = testdata[:, 8]\n",
        "\n",
        "y_train = np.reshape(y_train, (y_train.shape[0], 1))\n",
        "y_test = np.reshape(y_test, (y_test.shape[0], 1))\n",
        "\n",
        "sc = StandardScaler()\n",
        "\n",
        "X_train = sc.fit_transform(X_train)\n",
        "y_train = sc.fit_transform(y_train)\n",
        "\n",
        "X_test = sc.fit_transform(X_test)\n",
        "y_test = sc.fit_transform(y_test)"
      ],
      "execution_count": 0,
      "outputs": []
    },
    {
      "metadata": {
        "id": "tqdgyuTQQlH0",
        "colab_type": "code",
        "colab": {
          "base_uri": "https://localhost:8080/",
          "height": 34
        },
        "outputId": "c26f9bf7-39ad-4803-95c2-321d0a874aca"
      },
      "cell_type": "code",
      "source": [
        "print y_train[0]"
      ],
      "execution_count": 37,
      "outputs": [
        {
          "output_type": "stream",
          "text": [
            "66900.0\n"
          ],
          "name": "stdout"
        }
      ]
    },
    {
      "metadata": {
        "id": "9csTp6dQQmcT",
        "colab_type": "code",
        "colab": {}
      },
      "cell_type": "code",
      "source": [
        "model = Sequential()\n",
        "\n",
        "model.add(Dense(units=8, input_dim=8))\n",
        "\n",
        "#model.add(Dense(units=16, activation='tanh'))\n",
        "\n",
        "#model.add(Dense(units=16, activation='tanh'))\n",
        "\n",
        "model.add(Dense(units=1))\n",
        "\n",
        "\n",
        "model.compile(loss='mse', optimizer='adam')\n"
      ],
      "execution_count": 0,
      "outputs": []
    },
    {
      "metadata": {
        "id": "1oRx1oM2SaTR",
        "colab_type": "code",
        "colab": {
          "base_uri": "https://localhost:8080/",
          "height": 629
        },
        "outputId": "260c62fd-9665-4423-f45a-bebbc6658554"
      },
      "cell_type": "code",
      "source": [
        "earlyStop = keras.callbacks.EarlyStopping(monitor='val_loss', min_delta=0, patience=0, verbose=0, mode='auto')\n",
        "\n",
        "model.fit(X_train, y_train, epochs = 20, batch_size = 32, validation_split=0.8, callbacks=[earlyStop])"
      ],
      "execution_count": 75,
      "outputs": [
        {
          "output_type": "stream",
          "text": [
            "Train on 3399 samples, validate on 13601 samples\n",
            "Epoch 1/20\n",
            "3399/3399 [==============================] - 1s 440us/step - loss: 2.6823 - val_loss: 1.8843\n",
            "Epoch 2/20\n",
            "3399/3399 [==============================] - 1s 322us/step - loss: 1.3237 - val_loss: 1.1255\n",
            "Epoch 3/20\n",
            "3399/3399 [==============================] - 1s 322us/step - loss: 0.7379 - val_loss: 0.8181\n",
            "Epoch 4/20\n",
            "3399/3399 [==============================] - 1s 322us/step - loss: 0.4925 - val_loss: 0.7241\n",
            "Epoch 5/20\n",
            "3399/3399 [==============================] - 1s 320us/step - loss: 0.4136 - val_loss: 0.7073\n",
            "Epoch 6/20\n",
            "3399/3399 [==============================] - 1s 314us/step - loss: 0.3856 - val_loss: 0.6794\n",
            "Epoch 7/20\n",
            "3399/3399 [==============================] - 1s 315us/step - loss: 0.3664 - val_loss: 0.6584\n",
            "Epoch 8/20\n",
            "3399/3399 [==============================] - 1s 317us/step - loss: 0.3514 - val_loss: 0.6258\n",
            "Epoch 9/20\n",
            "3399/3399 [==============================] - 1s 312us/step - loss: 0.3396 - val_loss: 0.5985\n",
            "Epoch 10/20\n",
            "3399/3399 [==============================] - 1s 314us/step - loss: 0.3295 - val_loss: 0.5746\n",
            "Epoch 11/20\n",
            "3399/3399 [==============================] - 1s 312us/step - loss: 0.3215 - val_loss: 0.5517\n",
            "Epoch 12/20\n",
            "3399/3399 [==============================] - 1s 313us/step - loss: 0.3146 - val_loss: 0.5357\n",
            "Epoch 13/20\n",
            "3399/3399 [==============================] - 1s 307us/step - loss: 0.3099 - val_loss: 0.5102\n",
            "Epoch 14/20\n",
            "3399/3399 [==============================] - 1s 316us/step - loss: 0.3050 - val_loss: 0.4916\n",
            "Epoch 15/20\n",
            "3399/3399 [==============================] - 1s 314us/step - loss: 0.3020 - val_loss: 0.4875\n",
            "Epoch 16/20\n",
            "3399/3399 [==============================] - 1s 312us/step - loss: 0.3003 - val_loss: 0.4650\n",
            "Epoch 17/20\n",
            "3399/3399 [==============================] - 1s 314us/step - loss: 0.2996 - val_loss: 0.4651\n"
          ],
          "name": "stdout"
        },
        {
          "output_type": "execute_result",
          "data": {
            "text/plain": [
              "<keras.callbacks.History at 0x7f250724f310>"
            ]
          },
          "metadata": {
            "tags": []
          },
          "execution_count": 75
        }
      ]
    },
    {
      "metadata": {
        "id": "jfOxM5bXTjGL",
        "colab_type": "code",
        "colab": {
          "base_uri": "https://localhost:8080/",
          "height": 51
        },
        "outputId": "0f5788e4-60a6-4fa5-e194-85e019a6605e"
      },
      "cell_type": "code",
      "source": [
        "loss_and_metrics = model.evaluate(X_test, y_test, batch_size=128)\n",
        "\n",
        "print loss_and_metrics"
      ],
      "execution_count": 76,
      "outputs": [
        {
          "output_type": "stream",
          "text": [
            "3000/3000 [==============================] - 0s 15us/step\n",
            "0.45139066664377847\n"
          ],
          "name": "stdout"
        }
      ]
    },
    {
      "metadata": {
        "id": "X6P5fKPVV9Rj",
        "colab_type": "code",
        "colab": {}
      },
      "cell_type": "code",
      "source": [
        ""
      ],
      "execution_count": 0,
      "outputs": []
    }
  ]
}